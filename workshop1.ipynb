{
  "nbformat": 4,
  "nbformat_minor": 0,
  "metadata": {
    "colab": {
      "name": "workshop1.ipynb",
      "provenance": [],
      "include_colab_link": true
    },
    "kernelspec": {
      "name": "python3",
      "display_name": "Python 3"
    },
    "language_info": {
      "name": "python"
    }
  },
  "cells": [
    {
      "cell_type": "markdown",
      "metadata": {
        "id": "view-in-github",
        "colab_type": "text"
      },
      "source": [
        "<a href=\"https://colab.research.google.com/github/SidV2/ML_Workshop/blob/main/workshop1.ipynb\" target=\"_parent\"><img src=\"https://colab.research.google.com/assets/colab-badge.svg\" alt=\"Open In Colab\"/></a>"
      ]
    },
    {
      "cell_type": "code",
      "metadata": {
        "id": "Yi5aNMcUgguf"
      },
      "source": [
        "#Importing Libraries\n",
        "import numpy as np\n",
        "import pandas as pd\n",
        "import matplotlib.pyplot as plt\n",
        "import sklearn.datasets as skd\n",
        "from sklearn import preprocessing \n",
        "import tensorflow.keras as tfk\n",
        "from sklearn.linear_model import LinearRegression \n",
        "from sklearn.model_selection import train_test_split\n",
        "from sklearn import metrics \n",
        "from mlxtend.plotting import plot_decision_regions\n"
      ],
      "execution_count": 1,
      "outputs": []
    },
    {
      "cell_type": "code",
      "metadata": {
        "id": "wnAq8fsegvTW"
      },
      "source": [
        "#Generating synthetic linear dataset \n",
        "X,y = skd.make_regression(n_samples=100, n_features=1, n_targets=1, bias=0.5, noise=5.5, random_state=42)\n"
      ],
      "execution_count": 2,
      "outputs": []
    },
    {
      "cell_type": "code",
      "metadata": {
        "id": "dm2bvmMmgvjw"
      },
      "source": [
        "#Reading dataset from csv file \n",
        "#dataframe = pd.read_csv(\"datasetName.csv\", header=None) #header=0 if first row/line is the header of the dataset\n",
        "#dataset = dataframe.values\n",
        "#Split into input (X) and output (Y) variables,\n",
        "#Lets say the dataset have n number of columns where the last column is the target value \n",
        "#therefore we have first n-2 columns as independent variables (inputs) and the (n-1)th column is the as output since index starts from 0\n",
        "#X = dataset[:,0:n-1] # when range is [start:end] value is read from start to end-1 index \n",
        "#y = dataset[:,n-1] # here it is not range is specific index"
      ],
      "execution_count": null,
      "outputs": []
    },
    {
      "cell_type": "code",
      "metadata": {
        "colab": {
          "base_uri": "https://localhost:8080/",
          "height": 339
        },
        "id": "B1CTKDM8gvmh",
        "outputId": "1881b61c-118f-4238-c86f-09d412923a0e"
      },
      "source": [
        "# Visulalizing the synthetic dataset\n",
        "print(\"\\nVisualizing the Synthetic Dataset\")\n",
        "plt.style.use(\"ggplot\")\n",
        "plt.scatter(X,y,color='red',edgecolors=\"green\")\n",
        "plt.title(\"Synthetic Dataset\")\n",
        "plt.xlabel(\"X\", fontsize=20)\n",
        "plt.ylabel(\"y\",rotation = 0, fontsize = 20)\n",
        "plt.show()\n"
      ],
      "execution_count": 3,
      "outputs": [
        {
          "output_type": "stream",
          "text": [
            "\n",
            "Visualizing the Synthetic Dataset\n"
          ],
          "name": "stdout"
        },
        {
          "output_type": "display_data",
          "data": {
            "image/png": "[encoded data removed]",
            "text/plain": [
              "<Figure size 432x288 with 1 Axes>"
            ]
          },
          "metadata": {
            "tags": []
          }
        }
      ]
    },
    {
      "cell_type": "code",
      "metadata": {
        "id": "kFIIItOIgvpb"
      },
      "source": [
        "#reshaping the y values into 2D matrix of 1 column\n",
        "y = y.reshape(-1,1) #if y is not an array then use, np.asanyarray(y).reshape(-1,1)\n",
        "# Equivalent code y = np.reshape(y,(-1,1))"
      ],
      "execution_count": 5,
      "outputs": []
    },
    {
      "cell_type": "code",
      "metadata": {
        "id": "-41Q5mCBgvsO"
      },
      "source": [
        "#Feature Scaling (Standardization : needs 2D array as input) \n",
        "#Here your data Z is rescaled such that μ = 0 and 𝛔 = 1, and is done through this formula: z= (Xi - μ)/𝛔\n",
        "#sc = preprocessing.StandardScaler()\n",
        "#X = sc.fit_transform(X)\n",
        "#y = sc.fit_transform(y)"
      ],
      "execution_count": null,
      "outputs": []
    },
    {
      "cell_type": "code",
      "metadata": {
        "id": "-RO_2krVgvu0"
      },
      "source": [
        "# Visulalizing the synthetic dataset after standardization \n",
        "#print(\"\\nVisualizing the Synthetic Dataset after Standardization\")\n",
        "#plt.style.use(\"ggplot\")\n",
        "#plt.scatter(X,y,color='red',edgecolors=\"green\")\n",
        "#plt.title(\"Synthetic Dataset\")\n",
        "#plt.xlabel(\"X\", fontsize=20)\n",
        "#plt.ylabel(\"y\",rotation = 0, fontsize = 20)\n",
        "#plt.show()"
      ],
      "execution_count": null,
      "outputs": []
    },
    {
      "cell_type": "code",
      "metadata": {
        "id": "L3R8PVpegvx9"
      },
      "source": [
        "#Spliting the dataset into Training and Testset\n",
        "X_train, X_test, y_train, y_test = train_test_split(X, y, test_size=0.2, random_state=0)\n"
      ],
      "execution_count": 6,
      "outputs": []
    },
    {
      "cell_type": "code",
      "metadata": {
        "id": "fq01s5pdhKNn"
      },
      "source": [
        "#A shape (5,2,8) means an array or tensor with 3 dimensions, containing 5 elements in the first dimension, \n",
        "#2 in the second and 8 in the third, totaling 30*4*10 = 1200 elements or numbers.\n",
        "#What flows between layers are tensors. Tensors can be seen as matrices, with shapes.\n",
        "#In Keras, the input layer itself is not a layer, but a tensor. It's the starting tensor you send to the first \n",
        "#hidden layer. This tensor must have the same shape as your training data.\n",
        "#In our example input data is one dimentional and also has only one element (column). "
      ],
      "execution_count": 7,
      "outputs": []
    },
    {
      "cell_type": "code",
      "metadata": {
        "colab": {
          "base_uri": "https://localhost:8080/"
        },
        "id": "GIMsjRD7hKQp",
        "outputId": "7d1770fe-b62e-49db-99ca-1088be6e72bb"
      },
      "source": [
        "model = tfk.Sequential([\n",
        "        tfk.Input(shape = (1,)),            \n",
        "        tfk.layers.Dense(50, activation='tanh'),  #first hidden layer\n",
        "        tfk.layers.Dense(100, activation='tanh'), #second hidden layer\n",
        "        tfk.layers.Dense(1,) #activation linear by default, also can add: activation ='linear' \n",
        "        ])"
      ],
      "execution_count": 8,
      "outputs": [
        {
          "output_type": "stream",
          "text": [
            "WARNING:tensorflow:Please add `keras.layers.InputLayer` instead of `keras.Input` to Sequential model. `keras.Input` is intended to be used by Functional model.\n"
          ],
          "name": "stdout"
        }
      ]
    },
    {
      "cell_type": "code",
      "metadata": {
        "colab": {
          "base_uri": "https://localhost:8080/"
        },
        "id": "OU0czEaXhKT5",
        "outputId": "ca783e58-1159-4ae5-c1e9-c52c8d01a038"
      },
      "source": [
        "#model Looks like:  1 input -> [50 units in layer1] ->[100 units in layer2] -> 1 output\n",
        "\n",
        "#Compiling the model with Stochatstic Gradient Discent optimizer and MSE as the loss function\n",
        "model.compile(optimizer=tfk.optimizers.SGD(lr=0.001), loss='mean_squared_error', metrics=['mean_squared_error'])\n",
        "#Model's Summary\n",
        "model.summary()\n"
      ],
      "execution_count": 9,
      "outputs": [
        {
          "output_type": "stream",
          "text": [
            "Model: \"sequential\"\n",
            "_________________________________________________________________\n",
            "Layer (type)                 Output Shape              Param #   \n",
            "=================================================================\n",
            "dense (Dense)                (None, 50)                100       \n",
            "_________________________________________________________________\n",
            "dense_1 (Dense)              (None, 100)               5100      \n",
            "_________________________________________________________________\n",
            "dense_2 (Dense)              (None, 1)                 101       \n",
            "=================================================================\n",
            "Total params: 5,301\n",
            "Trainable params: 5,301\n",
            "Non-trainable params: 0\n",
            "_________________________________________________________________\n"
          ],
          "name": "stdout"
        },
        {
          "output_type": "stream",
          "text": [
            "/usr/local/lib/python3.7/dist-packages/tensorflow/python/keras/optimizer_v2/optimizer_v2.py:375: UserWarning: The `lr` argument is deprecated, use `learning_rate` instead.\n",
            "  \"The `lr` argument is deprecated, use `learning_rate` instead.\")\n"
          ],
          "name": "stderr"
        }
      ]
    },
    {
      "cell_type": "code",
      "metadata": {
        "colab": {
          "base_uri": "https://localhost:8080/"
        },
        "id": "qjM_L2HnhKW1",
        "outputId": "c8c0a435-a3bb-43d9-cb27-06966e6c5fb9"
      },
      "source": [
        "#Training the model \n",
        "training = model.fit(X_train,y_train, epochs = 50, batch_size =10)\n",
        "#Testing the models performance \n",
        "y_pred = model.predict(X_test)\n",
        "mse = metrics.mean_squared_error(y_test,y_pred)\n",
        "print(\"Testset Result: \\n---------------\")\n",
        "print(\"MSE: \", mse)"
      ],
      "execution_count": 11,
      "outputs": [
        {
          "output_type": "stream",
          "text": [
            "Epoch 1/50\n",
            "8/8 [==============================] - 1s 2ms/step - loss: 1369.4343 - mean_squared_error: 1369.4343\n",
            "Epoch 2/50\n",
            "8/8 [==============================] - 0s 2ms/step - loss: 866.2783 - mean_squared_error: 866.2783\n",
            "Epoch 3/50\n",
            "8/8 [==============================] - 0s 2ms/step - loss: 383.8875 - mean_squared_error: 383.8875\n",
            "Epoch 4/50\n",
            "8/8 [==============================] - 0s 2ms/step - loss: 214.6123 - mean_squared_error: 214.6123\n",
            "Epoch 5/50\n",
            "8/8 [==============================] - 0s 3ms/step - loss: 172.6559 - mean_squared_error: 172.6559\n",
            "Epoch 6/50\n",
            "8/8 [==============================] - 0s 2ms/step - loss: 152.6119 - mean_squared_error: 152.6119\n",
            "Epoch 7/50\n",
            "8/8 [==============================] - 0s 2ms/step - loss: 135.7523 - mean_squared_error: 135.7523\n",
            "Epoch 8/50\n",
            "8/8 [==============================] - 0s 2ms/step - loss: 122.1289 - mean_squared_error: 122.1289\n",
            "Epoch 9/50\n",
            "8/8 [==============================] - 0s 2ms/step - loss: 109.9827 - mean_squared_error: 109.9827\n",
            "Epoch 10/50\n",
            "8/8 [==============================] - 0s 2ms/step - loss: 101.7043 - mean_squared_error: 101.7043\n",
            "Epoch 11/50\n",
            "8/8 [==============================] - 0s 3ms/step - loss: 96.8900 - mean_squared_error: 96.8900\n",
            "Epoch 12/50\n",
            "8/8 [==============================] - 0s 3ms/step - loss: 88.2669 - mean_squared_error: 88.2669\n",
            "Epoch 13/50\n",
            "8/8 [==============================] - 0s 2ms/step - loss: 81.0201 - mean_squared_error: 81.0201\n",
            "Epoch 14/50\n",
            "8/8 [==============================] - 0s 2ms/step - loss: 73.6395 - mean_squared_error: 73.6396\n",
            "Epoch 15/50\n",
            "8/8 [==============================] - 0s 2ms/step - loss: 73.9777 - mean_squared_error: 73.9777\n",
            "Epoch 16/50\n",
            "8/8 [==============================] - 0s 2ms/step - loss: 72.9806 - mean_squared_error: 72.9806\n",
            "Epoch 17/50\n",
            "8/8 [==============================] - 0s 2ms/step - loss: 71.2607 - mean_squared_error: 71.2607\n",
            "Epoch 18/50\n",
            "8/8 [==============================] - 0s 2ms/step - loss: 64.8970 - mean_squared_error: 64.8970\n",
            "Epoch 19/50\n",
            "8/8 [==============================] - 0s 2ms/step - loss: 66.5882 - mean_squared_error: 66.5882\n",
            "Epoch 20/50\n",
            "8/8 [==============================] - 0s 2ms/step - loss: 63.8833 - mean_squared_error: 63.8833\n",
            "Epoch 21/50\n",
            "8/8 [==============================] - 0s 3ms/step - loss: 63.1946 - mean_squared_error: 63.1946\n",
            "Epoch 22/50\n",
            "8/8 [==============================] - 0s 3ms/step - loss: 61.8078 - mean_squared_error: 61.8078\n",
            "Epoch 23/50\n",
            "8/8 [==============================] - 0s 2ms/step - loss: 68.5475 - mean_squared_error: 68.5475\n",
            "Epoch 24/50\n",
            "8/8 [==============================] - 0s 2ms/step - loss: 61.8245 - mean_squared_error: 61.8245\n",
            "Epoch 25/50\n",
            "8/8 [==============================] - 0s 2ms/step - loss: 56.1285 - mean_squared_error: 56.1285\n",
            "Epoch 26/50\n",
            "8/8 [==============================] - 0s 2ms/step - loss: 54.5649 - mean_squared_error: 54.5649\n",
            "Epoch 27/50\n",
            "8/8 [==============================] - 0s 2ms/step - loss: 61.8785 - mean_squared_error: 61.8785\n",
            "Epoch 28/50\n",
            "8/8 [==============================] - 0s 3ms/step - loss: 55.4631 - mean_squared_error: 55.4631\n",
            "Epoch 29/50\n",
            "8/8 [==============================] - 0s 2ms/step - loss: 54.4722 - mean_squared_error: 54.4722\n",
            "Epoch 30/50\n",
            "8/8 [==============================] - 0s 2ms/step - loss: 51.5514 - mean_squared_error: 51.5514\n",
            "Epoch 31/50\n",
            "8/8 [==============================] - 0s 2ms/step - loss: 61.6278 - mean_squared_error: 61.6278\n",
            "Epoch 32/50\n",
            "8/8 [==============================] - 0s 2ms/step - loss: 59.5168 - mean_squared_error: 59.5168\n",
            "Epoch 33/50\n",
            "8/8 [==============================] - 0s 2ms/step - loss: 47.8764 - mean_squared_error: 47.8764\n",
            "Epoch 34/50\n",
            "8/8 [==============================] - 0s 2ms/step - loss: 59.3398 - mean_squared_error: 59.3398\n",
            "Epoch 35/50\n",
            "8/8 [==============================] - 0s 2ms/step - loss: 49.4935 - mean_squared_error: 49.4935\n",
            "Epoch 36/50\n",
            "8/8 [==============================] - 0s 3ms/step - loss: 49.0785 - mean_squared_error: 49.0785\n",
            "Epoch 37/50\n",
            "8/8 [==============================] - 0s 2ms/step - loss: 49.8194 - mean_squared_error: 49.8194\n",
            "Epoch 38/50\n",
            "8/8 [==============================] - 0s 2ms/step - loss: 47.8490 - mean_squared_error: 47.8490\n",
            "Epoch 39/50\n",
            "8/8 [==============================] - 0s 2ms/step - loss: 44.0410 - mean_squared_error: 44.0410\n",
            "Epoch 40/50\n",
            "8/8 [==============================] - 0s 3ms/step - loss: 49.9606 - mean_squared_error: 49.9606\n",
            "Epoch 41/50\n",
            "8/8 [==============================] - 0s 2ms/step - loss: 45.3348 - mean_squared_error: 45.3348\n",
            "Epoch 42/50\n",
            "8/8 [==============================] - 0s 2ms/step - loss: 44.1948 - mean_squared_error: 44.1948\n",
            "Epoch 43/50\n",
            "8/8 [==============================] - 0s 2ms/step - loss: 58.6744 - mean_squared_error: 58.6744\n",
            "Epoch 44/50\n",
            "8/8 [==============================] - 0s 2ms/step - loss: 46.8620 - mean_squared_error: 46.8620\n",
            "Epoch 45/50\n",
            "8/8 [==============================] - 0s 2ms/step - loss: 46.5185 - mean_squared_error: 46.5185\n",
            "Epoch 46/50\n",
            "8/8 [==============================] - 0s 2ms/step - loss: 53.4248 - mean_squared_error: 53.4248\n",
            "Epoch 47/50\n",
            "8/8 [==============================] - 0s 2ms/step - loss: 56.5652 - mean_squared_error: 56.5652\n",
            "Epoch 48/50\n",
            "8/8 [==============================] - 0s 2ms/step - loss: 50.1099 - mean_squared_error: 50.1099\n",
            "Epoch 49/50\n",
            "8/8 [==============================] - 0s 2ms/step - loss: 41.8133 - mean_squared_error: 41.8133\n",
            "Epoch 50/50\n",
            "8/8 [==============================] - 0s 2ms/step - loss: 43.0323 - mean_squared_error: 43.0323\n",
            "Testset Result: \n",
            "---------------\n",
            "MSE:  87.03820978316188\n"
          ],
          "name": "stdout"
        }
      ]
    },
    {
      "cell_type": "code",
      "metadata": {
        "colab": {
          "base_uri": "https://localhost:8080/",
          "height": 315
        },
        "id": "c2IOJIFFhKaE",
        "outputId": "fd53dc44-053c-4b2e-b112-6536937f5192"
      },
      "source": [
        "#Visualizing training loss values\n",
        "plt.plot(training.history['loss'], label='Training Loss')\n",
        "plt.title('Model Loss')\n",
        "plt.xlabel('Epoch')\n",
        "plt.ylabel('Loss')\n",
        "plt.legend()"
      ],
      "execution_count": null,
      "outputs": [
        {
          "output_type": "execute_result",
          "data": {
            "text/plain": [
              "<matplotlib.legend.Legend at 0x7f37db0d2f10>"
            ]
          },
          "metadata": {
            "tags": []
          },
          "execution_count": 31
        },
        {
          "output_type": "display_data",
          "data": {
            "image/png": "[encoded data removed]",
            "text/plain": [
              "<Figure size 432x288 with 1 Axes>"
            ]
          },
          "metadata": {
            "tags": []
          }
        }
      ]
    },
    {
      "cell_type": "code",
      "metadata": {
        "id": "JlgGekkdhKdY"
      },
      "source": [
        "#Reshapping the matrix into array to pass the value into np.linspace() for 2D visualizaiton. \n",
        "x_train_arr = np.asarray(X_train).reshape(-1)\n",
        "y_train_arr = np.asarray(y_train).reshape(-1)\n",
        "x_test_arr = np.asarray(X_test).reshape(-1)\n",
        "y_test_arr = np.asarray(y_test).reshape(-1)\n",
        "#Creating evenly spaced values for smooth visulatization\n",
        "xp_train = np.linspace(x_train_arr.min(), x_train_arr.max())\n",
        "xp_test = np.linspace(x_test_arr.min(), x_test_arr.max())"
      ],
      "execution_count": null,
      "outputs": []
    },
    {
      "cell_type": "code",
      "metadata": {
        "colab": {
          "base_uri": "https://localhost:8080/",
          "height": 296
        },
        "id": "5uujmRHqjBnj",
        "outputId": "a355d31a-b7b9-4394-c594-f59dea1f437f"
      },
      "source": [
        "#Visulalizing training and testing plots. \n",
        "fig, ax = plt.subplots (nrows=1, ncols=2, figsize=(8, 4))\n",
        "ax[0].scatter (X_train, y_train, color='red', edgecolors='green', label='Synthetic Data Points')\n",
        "ax[0].plot(xp_train,model.predict(xp_train.reshape(-1)),color='blue', label='Regression Line')\n",
        "ax[0].set_title(\"NN Regression Plot (Training Set)\")\n",
        "ax[0].set_xlabel(\"X_train\", fontsize=20)\n",
        "ax[0].set_ylabel(\"y_train\", fontsize = 20)\n",
        "ax[0].legend()\n",
        "ax[1].scatter(X_test,y_test,color='red', edgecolors='green', label='Synthetic Data Points')\n",
        "ax[1].plot(xp_test,model.predict(xp_test.reshape(-1)),color='blue',label='Regression Line')\n",
        "ax[1].set_title(\"NN Regression Plot (Testing Set)\")\n",
        "ax[1].set_xlabel(\"X_test\", fontsize=20)\n",
        "ax[1].set_ylabel(\"y_test\", fontsize = 20)\n",
        "ax[1].legend()\n",
        "plt.tight_layout()\n",
        "plt.show()"
      ],
      "execution_count": null,
      "outputs": [
        {
          "output_type": "display_data",
          "data": {
            "image/png": "[encoded data removed]",
            "text/plain": [
              "<Figure size 576x288 with 2 Axes>"
            ]
          },
          "metadata": {
            "tags": []
          }
        }
      ]
    },
    {
      "cell_type": "code",
      "metadata": {
        "colab": {
          "base_uri": "https://localhost:8080/"
        },
        "id": "s7QLfVWPjBr8",
        "outputId": "830758be-606d-4120-ac1e-9d7f12c808e7"
      },
      "source": [
        "#Creating Linear Regression Model\n",
        "lr_model = LinearRegression()\n",
        "#Training the model\n",
        "lr_model.fit(X_train,y_train)\n",
        "#Testing the model's performance\n",
        "y_pred_lr = lr_model.predict(X_test)\n",
        "mse = metrics.mean_squared_error(y_test,y_pred_lr)\n",
        "print(\"MSE: \", mse)"
      ],
      "execution_count": null,
      "outputs": [
        {
          "output_type": "stream",
          "text": [
            "MSE:  43.23366621507749\n"
          ],
          "name": "stdout"
        }
      ]
    },
    {
      "cell_type": "code",
      "metadata": {
        "colab": {
          "base_uri": "https://localhost:8080/",
          "height": 296
        },
        "id": "7QULTYfVjIYM",
        "outputId": "34a66d66-c9a7-45bf-91a6-23fe32c7b55b"
      },
      "source": [
        "#Visualizing the Training and Testset performance of Linear Regression\n",
        "fig, ax = plt.subplots (nrows=1, ncols=2, figsize=(8, 4))\n",
        "ax[0].scatter (X_train, y_train, color='red', edgecolors='green', label='Synthetic Data Points')\n",
        "ax[0].plot(X_train,lr_model.predict(X_train),color='blue', label='Regression Line')\n",
        "ax[0].set_title(\"Linear Regression Plot (Training Set)\")\n",
        "ax[0].set_xlabel(\"X_train\", fontsize=20)\n",
        "ax[0].set_ylabel(\"y_train\", fontsize = 20)\n",
        "ax[0].legend()\n",
        "ax[1].scatter(X_test,y_test,color='red', edgecolors='green', label='Synthetic Data Points')\n",
        "ax[1].plot(X_test,lr_model.predict(X_test),color='blue',label='Regression Line')\n",
        "ax[1].set_title(\"Linear Regression Plot (Testing Set)\")\n",
        "ax[1].set_xlabel(\"X_test\", fontsize=20)\n",
        "ax[1].set_ylabel(\"y_test\", fontsize = 20)\n",
        "ax[1].legend()\n",
        "plt.tight_layout()\n",
        "plt.show()"
      ],
      "execution_count": null,
      "outputs": [
        {
          "output_type": "display_data",
          "data": {
            "image/png": "[encoded data removed]",
            "text/plain": [
              "<Figure size 576x288 with 2 Axes>"
            ]
          },
          "metadata": {
            "tags": []
          }
        }
      ]
    },
    {
      "cell_type": "code",
      "metadata": {
        "id": "s4sr9ZfbjIcZ"
      },
      "source": [
        "\n",
        "#Generating synthetic non-linear data to solve classification problem\n",
        "X,y = skd.make_circles(n_samples=100, shuffle=False, noise=None, random_state=None, factor=0.5)"
      ],
      "execution_count": null,
      "outputs": []
    },
    {
      "cell_type": "code",
      "metadata": {
        "colab": {
          "base_uri": "https://localhost:8080/"
        },
        "id": "Fb98LI6EjIgc",
        "outputId": "d57daca6-c906-4bbf-e513-76dcda5d1f4b"
      },
      "source": [
        "#Following classes will not be shapped as circle, parameters can be changed to make it more non-linear\n",
        "#X, y = skd.make_classification(n_samples=100, n_features=2, n_redundant=0, n_informative=2,\n",
        "#                             n_clusters_per_class=1,class_sep=0.5,flip_y=0.2, random_state=1,shuffle=False)\n",
        "\n",
        "#Finding and counting unique elements. \n",
        "unique_elements, counts_elements = np.unique(y, return_counts=True)\n",
        "print(\"Frequency of unique class of the dataset:\")\n",
        "print(np.asarray((unique_elements, counts_elements)))"
      ],
      "execution_count": null,
      "outputs": [
        {
          "output_type": "stream",
          "text": [
            "Frequency of unique class of the dataset:\n",
            "[[ 0  1]\n",
            " [50 50]]\n"
          ],
          "name": "stdout"
        }
      ]
    },
    {
      "cell_type": "code",
      "metadata": {
        "colab": {
          "base_uri": "https://localhost:8080/",
          "height": 298
        },
        "id": "vSlpoM5YjIlA",
        "outputId": "efaae5be-0abf-4d57-eab3-87bc41ac13b2"
      },
      "source": [
        "#Visualizing the synthetic dataset of Class 1 and Class -1: \n",
        "plt.plot(X[:, 0][y == 0], X[:, 1][y == 0], 'g^', label='Class: 0')\n",
        "plt.plot(X[:, 0][y == 1], X[:, 1][y == 1], 'ro' , label=\"Class: 1\")\n",
        "plt.title(\"Visualizing the synthetic dataset of class 1 and 0\")\n",
        "plt.xlabel(\"X1\")\n",
        "plt.ylabel(\"X2\")\n",
        "plt.legend()\n",
        "plt.show() "
      ],
      "execution_count": null,
      "outputs": [
        {
          "output_type": "display_data",
          "data": {
            "image/png": "[encoded data removed]",
            "text/plain": [
              "<Figure size 432x288 with 1 Axes>"
            ]
          },
          "metadata": {
            "tags": []
          }
        }
      ]
    },
    {
      "cell_type": "code",
      "metadata": {
        "id": "F4i1FW1RjIqs"
      },
      "source": [
        "#Spliting the dataset into train and testset\n",
        "X_train, X_test, y_train, y_test = train_test_split(X, y, test_size=0.2, random_state=0)"
      ],
      "execution_count": null,
      "outputs": []
    },
    {
      "cell_type": "code",
      "metadata": {
        "colab": {
          "base_uri": "https://localhost:8080/"
        },
        "id": "ltKxEDpwj2Md",
        "outputId": "d0162ecd-5cf2-49d4-bef9-9063122de566"
      },
      "source": [
        "print(\"Frequency of unique class of elements in the test set:\")\n",
        "unique_elements_test, count_elements_test=np.unique(y_test, return_counts=True)\n",
        "print(unique_elements_test, count_elements_test)"
      ],
      "execution_count": null,
      "outputs": [
        {
          "output_type": "stream",
          "text": [
            "Frequency of unique class of elements in the test set:\n",
            "[0 1] [10 10]\n"
          ],
          "name": "stdout"
        }
      ]
    },
    {
      "cell_type": "code",
      "metadata": {
        "id": "vhN94BRuj2Q9"
      },
      "source": [
        "#Creating validation set  by copying last 10 elements from the training set\n",
        "X_val = X_train[70:]\n",
        "y_val = y_train[70:]\n",
        "#Removing the validation set (last 10 elements) from training set\n",
        "X_train = X_train[:70]\n",
        "y_train = y_train[:70]"
      ],
      "execution_count": null,
      "outputs": []
    },
    {
      "cell_type": "code",
      "metadata": {
        "id": "AcPua8Hqj2VO"
      },
      "source": [
        "#Creating the deep learning model (Lets try a differnt apprach, can be used same approach shown earlier) \n",
        "model = tfk.Sequential()\n",
        "model.add(tfk.layers.Dense(50,input_shape=(2,), activation='relu')) #First Hidden Layer\n",
        "model.add(tfk.layers.Dense(100, activation='relu')) #Second  Hidden Layer\n",
        "model.add(tfk.layers.Dense(1, activation='sigmoid')) #Output Layer"
      ],
      "execution_count": null,
      "outputs": []
    },
    {
      "cell_type": "code",
      "metadata": {
        "id": "SeU56FJNj2cO"
      },
      "source": [
        "#Model can be crated using following approach as well\n",
        "#input_units = tfk.Input(shape=(2,))\n",
        "#hidden_layer1 = tfk.layers.Dense(100, activation ='relu')((input_units))\n",
        "#hidden_layer2 = tfk.layers.Dense(50, activation ='relu')(hidden_layer1)\n",
        "#prediction = tfk.layers.Dense(1, activation ='sigmoid')(hidden_layer2)\n",
        "#model = tfk.models.Model(inputs=input_units, outputs=prediction)\n",
        "\n",
        "#model Looks like:  2 input -> [50 units in layer1] ->[100 units in layer2] -> 1 output"
      ],
      "execution_count": null,
      "outputs": []
    },
    {
      "cell_type": "code",
      "metadata": {
        "colab": {
          "base_uri": "https://localhost:8080/"
        },
        "id": "_58TIO5wjBvm",
        "outputId": "790c4354-e155-4a43-e9ac-3d5b93f60fbf"
      },
      "source": [
        "# Compiling the model for binary classification # Use loss = categorical_crossentropy for multiclass prediction. \n",
        "model.compile(optimizer='adam', loss='binary_crossentropy', metrics=['accuracy']) \n",
        "#Model's Summary\n",
        "model.summary()"
      ],
      "execution_count": null,
      "outputs": [
        {
          "output_type": "stream",
          "text": [
            "Model: \"sequential_6\"\n",
            "_________________________________________________________________\n",
            "Layer (type)                 Output Shape              Param #   \n",
            "=================================================================\n",
            "dense_18 (Dense)             (None, 50)                150       \n",
            "_________________________________________________________________\n",
            "dense_19 (Dense)             (None, 100)               5100      \n",
            "_________________________________________________________________\n",
            "dense_20 (Dense)             (None, 1)                 101       \n",
            "=================================================================\n",
            "Total params: 5,351\n",
            "Trainable params: 5,351\n",
            "Non-trainable params: 0\n",
            "_________________________________________________________________\n"
          ],
          "name": "stdout"
        }
      ]
    },
    {
      "cell_type": "code",
      "metadata": {
        "colab": {
          "base_uri": "https://localhost:8080/",
          "height": 198
        },
        "id": "c4lQP1DmjBym",
        "outputId": "923acc73-3d2e-4d10-b8a0-3576c29f9c70"
      },
      "source": [
        "#Training the model \n",
        "training = model.fit(X_train,y_train, epochs = 50, batch_size =10, validation_data =(X_val,y_val))\n",
        "\n"
      ],
      "execution_count": 12,
      "outputs": [
        {
          "output_type": "error",
          "ename": "NameError",
          "evalue": "ignored",
          "traceback": [
            "\u001b[0;31m---------------------------------------------------------------------------\u001b[0m",
            "\u001b[0;31mNameError\u001b[0m                                 Traceback (most recent call last)",
            "\u001b[0;32m<ipython-input-12-c039cd0c7c6f>\u001b[0m in \u001b[0;36m<module>\u001b[0;34m()\u001b[0m\n\u001b[1;32m      1\u001b[0m \u001b[0;31m#Training the model\u001b[0m\u001b[0;34m\u001b[0m\u001b[0;34m\u001b[0m\u001b[0;34m\u001b[0m\u001b[0m\n\u001b[0;32m----> 2\u001b[0;31m \u001b[0mtraining\u001b[0m \u001b[0;34m=\u001b[0m \u001b[0mmodel\u001b[0m\u001b[0;34m.\u001b[0m\u001b[0mfit\u001b[0m\u001b[0;34m(\u001b[0m\u001b[0mX_train\u001b[0m\u001b[0;34m,\u001b[0m\u001b[0my_train\u001b[0m\u001b[0;34m,\u001b[0m \u001b[0mepochs\u001b[0m \u001b[0;34m=\u001b[0m \u001b[0;36m50\u001b[0m\u001b[0;34m,\u001b[0m \u001b[0mbatch_size\u001b[0m \u001b[0;34m=\u001b[0m\u001b[0;36m10\u001b[0m\u001b[0;34m,\u001b[0m \u001b[0mvalidation_data\u001b[0m \u001b[0;34m=\u001b[0m\u001b[0;34m(\u001b[0m\u001b[0mX_val\u001b[0m\u001b[0;34m,\u001b[0m\u001b[0my_val\u001b[0m\u001b[0;34m)\u001b[0m\u001b[0;34m)\u001b[0m\u001b[0;34m\u001b[0m\u001b[0;34m\u001b[0m\u001b[0m\n\u001b[0m\u001b[1;32m      3\u001b[0m \u001b[0;34m\u001b[0m\u001b[0m\n",
            "\u001b[0;31mNameError\u001b[0m: name 'X_val' is not defined"
          ]
        }
      ]
    },
    {
      "cell_type": "code",
      "metadata": {
        "colab": {
          "base_uri": "https://localhost:8080/",
          "height": 481
        },
        "id": "ppPN02SljB10",
        "outputId": "0dc2d876-59df-48dd-9efc-0bf450abc9be"
      },
      "source": [
        "#Visulaizing the Training and Validation Sets Loss and Accuracy\n",
        "fig, axes = plt.subplots(nrows=1, ncols=2, figsize=(8,4))\n",
        "#Plot training and validation accuracy values\n",
        "#axes[0].set_ylim(0,1) #if we want to limit axis in certain range\n",
        "axes[0].plot(training.history['accuracy'], label='Train')\n",
        "axes[0].plot(training.history['val_accuracy'], label='Validation')\n",
        "axes[0].set_title('Model Accuracy')\n",
        "axes[0].set_xlabel('Epoch')\n",
        "axes[0].set_ylabel('Accuracy')\n",
        "axes[0].legend()"
      ],
      "execution_count": null,
      "outputs": [
        {
          "output_type": "error",
          "ename": "KeyError",
          "evalue": "ignored",
          "traceback": [
            "\u001b[0;31m---------------------------------------------------------------------------\u001b[0m",
            "\u001b[0;31mKeyError\u001b[0m                                  Traceback (most recent call last)",
            "\u001b[0;32m<ipython-input-50-2eb1ecd52418>\u001b[0m in \u001b[0;36m<module>\u001b[0;34m()\u001b[0m\n\u001b[1;32m      4\u001b[0m \u001b[0;31m#axes[0].set_ylim(0,1) #if we want to limit axis in certain range\u001b[0m\u001b[0;34m\u001b[0m\u001b[0;34m\u001b[0m\u001b[0;34m\u001b[0m\u001b[0m\n\u001b[1;32m      5\u001b[0m \u001b[0maxes\u001b[0m\u001b[0;34m[\u001b[0m\u001b[0;36m0\u001b[0m\u001b[0;34m]\u001b[0m\u001b[0;34m.\u001b[0m\u001b[0mplot\u001b[0m\u001b[0;34m(\u001b[0m\u001b[0mtraining\u001b[0m\u001b[0;34m.\u001b[0m\u001b[0mhistory\u001b[0m\u001b[0;34m[\u001b[0m\u001b[0;34m'accuracy'\u001b[0m\u001b[0;34m]\u001b[0m\u001b[0;34m,\u001b[0m \u001b[0mlabel\u001b[0m\u001b[0;34m=\u001b[0m\u001b[0;34m'Train'\u001b[0m\u001b[0;34m)\u001b[0m\u001b[0;34m\u001b[0m\u001b[0;34m\u001b[0m\u001b[0m\n\u001b[0;32m----> 6\u001b[0;31m \u001b[0maxes\u001b[0m\u001b[0;34m[\u001b[0m\u001b[0;36m0\u001b[0m\u001b[0;34m]\u001b[0m\u001b[0;34m.\u001b[0m\u001b[0mplot\u001b[0m\u001b[0;34m(\u001b[0m\u001b[0mtraining\u001b[0m\u001b[0;34m.\u001b[0m\u001b[0mhistory\u001b[0m\u001b[0;34m[\u001b[0m\u001b[0;34m'val_accuracy'\u001b[0m\u001b[0;34m]\u001b[0m\u001b[0;34m,\u001b[0m \u001b[0mlabel\u001b[0m\u001b[0;34m=\u001b[0m\u001b[0;34m'Validation'\u001b[0m\u001b[0;34m)\u001b[0m\u001b[0;34m\u001b[0m\u001b[0;34m\u001b[0m\u001b[0m\n\u001b[0m\u001b[1;32m      7\u001b[0m \u001b[0maxes\u001b[0m\u001b[0;34m[\u001b[0m\u001b[0;36m0\u001b[0m\u001b[0;34m]\u001b[0m\u001b[0;34m.\u001b[0m\u001b[0mset_title\u001b[0m\u001b[0;34m(\u001b[0m\u001b[0;34m'Model Accuracy'\u001b[0m\u001b[0;34m)\u001b[0m\u001b[0;34m\u001b[0m\u001b[0;34m\u001b[0m\u001b[0m\n\u001b[1;32m      8\u001b[0m \u001b[0maxes\u001b[0m\u001b[0;34m[\u001b[0m\u001b[0;36m0\u001b[0m\u001b[0;34m]\u001b[0m\u001b[0;34m.\u001b[0m\u001b[0mset_xlabel\u001b[0m\u001b[0;34m(\u001b[0m\u001b[0;34m'Epoch'\u001b[0m\u001b[0;34m)\u001b[0m\u001b[0;34m\u001b[0m\u001b[0;34m\u001b[0m\u001b[0m\n",
            "\u001b[0;31mKeyError\u001b[0m: 'val_accuracy'"
          ]
        },
        {
          "output_type": "display_data",
          "data": {
            "image/png": "[encoded data removed]",
            "text/plain": [
              "<Figure size 576x288 with 2 Axes>"
            ]
          },
          "metadata": {
            "tags": []
          }
        }
      ]
    },
    {
      "cell_type": "code",
      "metadata": {
        "id": "iNjc3wVmkXlP"
      },
      "source": [
        "#Plot training and validation loss values\n",
        "#axes[1].set_ylim(0,1)\n",
        "axes[1].plot(training.history['loss'], label='Train')\n",
        "axes[1].plot(training.history['val_loss'], label='Validation')\n",
        "axes[1].set_title('Model Loss')\n",
        "axes[1].set_xlabel('Epoch')\n",
        "axes[1].set_ylabel('Loss')\n",
        "axes[1].legend()\n",
        "plt.tight_layout()\n",
        "plt.show()"
      ],
      "execution_count": null,
      "outputs": []
    },
    {
      "cell_type": "code",
      "metadata": {
        "id": "XQ46r39PkXop"
      },
      "source": [
        "# Evaluating the performance on the Test set \n",
        "test_loss_accuracy = model.evaluate(X_test, y_test, verbose=2)"
      ],
      "execution_count": null,
      "outputs": []
    },
    {
      "cell_type": "code",
      "metadata": {
        "id": "Nr36aipHkXsg"
      },
      "source": [
        "# Visualising the Training and Test set plot decision area\n",
        "fig, axes = plt.subplots (nrows=1, ncols=2, figsize=(8, 4))\n",
        "fig1 = plot_decision_regions(X_train, y_train, clf=model, ax=axes[0], legend=0)\n",
        "fig2 = plot_decision_regions(X_test, y_test, clf=model, ax=axes[1], legend=0)\n",
        "axes[0].set_title('NN Plot Decision Region (Training set)')\n",
        "axes[0].set_xlabel('x1')\n",
        "axes[0].set_ylabel('x2')\n",
        "axes[1].set_title('NN Plot Decision Region (Test set)')\n",
        "axes[1].set_xlabel('x1')\n",
        "axes[1].set_ylabel('x2')"
      ],
      "execution_count": null,
      "outputs": []
    },
    {
      "cell_type": "code",
      "metadata": {
        "id": "h0bD7D13kXwR"
      },
      "source": [
        "handles, labels = fig1.get_legend_handles_labels()\n",
        "fig1.legend(handles, \n",
        "          ['class 0', 'class 1'])\n",
        "fig2.legend(handles, \n",
        "          ['class 0', 'class 1'])"
      ],
      "execution_count": null,
      "outputs": []
    },
    {
      "cell_type": "code",
      "metadata": {
        "id": "Sqka0dy_kXz6"
      },
      "source": [
        "plt.tight_layout()\n",
        "plt.show()"
      ],
      "execution_count": null,
      "outputs": []
    },
    {
      "cell_type": "code",
      "metadata": {
        "id": "nqQFMDbBjB7H"
      },
      "source": [
        "# Predicting the Test set results\n",
        "y_pred = model.predict(X_test)\n",
        "# Converting the predicted result into desired class level\n",
        "# Singmoid produce the output between 0 and 1. Therefore, the decision boundary for sigmoid is 0.5\n",
        "for i in range(0, len(y_pred)):\n",
        "    if(y_pred[i]>0.5):\n",
        "        y_pred[i] = 1\n",
        "    else:\n",
        "        y_pred[i] = 0"
      ],
      "execution_count": null,
      "outputs": []
    },
    {
      "cell_type": "code",
      "metadata": {
        "id": "u3rIUD7HkvP8"
      },
      "source": [
        "# Generating confusion matrics, details classification report\n",
        "cm = metrics.confusion_matrix(y_test,y_pred)\n",
        "print(\"Confusion Matrix for Neural Network Model:\\n \",cm)\n",
        "print( \"{0}\".format(metrics.classification_report(y_test,y_pred)))\n",
        "# Generating accuracy in %, \n",
        "# Similary precision_score and recall_score can be used to generate precision and recall seperately\n",
        "accuracy_test = metrics.accuracy_score(y_test,y_pred)*100\n",
        "print('Accuracy:%.2f' % accuracy_test,\"%\")"
      ],
      "execution_count": null,
      "outputs": []
    },
    {
      "cell_type": "code",
      "metadata": {
        "id": "erKkMcwKkvTp"
      },
      "source": [
        "# Using non-linear svm calssifier , use kernel=linear for linear classifier. \n",
        "from sklearn import svm\n",
        "classifier = svm.SVC(kernel='rbf') #rbf = 'radial basis function' for non-linear classification\n",
        "classifier.fit(X_train,y_train)\n",
        "\n",
        "# Predicting Teset set result\n",
        "y_pred = classifier.predict(X_test)"
      ],
      "execution_count": null,
      "outputs": []
    },
    {
      "cell_type": "code",
      "metadata": {
        "id": "IFSma6jqkvW_"
      },
      "source": [
        "# Generating confusion matrics, details classification report\n",
        "cm = metrics.confusion_matrix(y_test,y_pred)\n",
        "print(\"Confusion Matrix for SVM Clssifer:\\n \",cm)\n",
        "print( \"{0}\".format(metrics.classification_report(y_test,y_pred)))\n",
        "# Generating accuracy in %, \n",
        "# Similary precision_score and recall_score can be used to generate precision and recall seperately\n",
        "accuracy_test = metrics.accuracy_score(y_test,y_pred)*100\n",
        "print('Accuracy:%.2f' % accuracy_test,\"%\")\n"
      ],
      "execution_count": null,
      "outputs": []
    },
    {
      "cell_type": "code",
      "metadata": {
        "id": "pxIHWN5BkvbO"
      },
      "source": [
        "# Visualising the Training and Test set plot decision area\n",
        "fig, axes = plt.subplots (nrows=1, ncols=2, figsize=(8, 4))\n",
        "fig1 = plot_decision_regions(X_train, y_train, clf=classifier, ax=axes[0], legend=0)\n",
        "fig2 = plot_decision_regions(X_test, y_test, clf=classifier, ax=axes[1], legend=0)\n",
        "axes[0].set_title('SVM Plot Decision Region (Training set)')\n",
        "axes[0].set_xlabel('x1')\n",
        "axes[0].set_ylabel('x2')\n",
        "axes[1].set_title('SVM Plot Decision Region (Test set)')\n",
        "axes[1].set_xlabel('x1')\n",
        "axes[1].set_ylabel('x2')\n",
        "handles, labels = fig1.get_legend_handles_labels()\n",
        "fig1.legend(handles, \n",
        "          ['class 0', 'class 1'])\n",
        "fig2.legend(handles, \n",
        "          ['class 0', 'class 1'])"
      ],
      "execution_count": null,
      "outputs": []
    },
    {
      "cell_type": "code",
      "metadata": {
        "id": "ySPc3P4rkvqB"
      },
      "source": [
        "plt.tight_layout()\n",
        "plt.show()"
      ],
      "execution_count": null,
      "outputs": []
    },
    {
      "cell_type": "code",
      "metadata": {
        "id": "6SkLjimCjB-k"
      },
      "source": [
        ""
      ],
      "execution_count": null,
      "outputs": []
    },
    {
      "cell_type": "code",
      "metadata": {
        "id": "4RdCGk53hKhB"
      },
      "source": [
        ""
      ],
      "execution_count": null,
      "outputs": []
    },
    {
      "cell_type": "code",
      "metadata": {
        "id": "25h3w5hegv_N"
      },
      "source": [
        ""
      ],
      "execution_count": null,
      "outputs": []
    }
  ]
}